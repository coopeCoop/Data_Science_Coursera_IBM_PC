{
 "cells": [
  {
   "cell_type": "markdown",
   "metadata": {},
   "source": [
    "<p style=\"text-align:center\">\n",
    "    <a href=\"https://skills.network\" target=\"_blank\">\n",
    "    <img src=\"https://cf-courses-data.s3.us.cloud-object-storage.appdomain.cloud/assets/logos/SN_web_lightmode.png\" width=\"200\" alt=\"Skills Network Logo\">\n",
    "    </a>\n",
    "</p>\n"
   ]
  },
  {
   "cell_type": "markdown",
   "metadata": {},
   "source": [
    "Index([], dtype='object')\n",
    "Empty DataFrame\n",
    "Columns: []\n",
    "Index: []# **SpaceX  Falcon 9 first stage Landing Prediction**\n"
   ]
  },
  {
   "cell_type": "markdown",
   "metadata": {},
   "source": [
    "# Lab 1: Collecting the data\n"
   ]
  },
  {
   "cell_type": "markdown",
   "metadata": {},
   "source": [
    "Estimated time needed: **45** minutes\n"
   ]
  },
  {
   "cell_type": "markdown",
   "metadata": {},
   "source": [
    "In this capstone, we will predict if the Falcon 9 first stage will land successfully. SpaceX advertises Falcon 9 rocket launches on its website with a cost of 62 million dollars; other providers cost upward of 165 million dollars each, much of the savings is because SpaceX can reuse the first stage. Therefore if we can determine if the first stage will land, we can determine the cost of a launch. This information can be used if an alternate company wants to bid against SpaceX for a rocket launch. In this lab, you will collect and make sure the data is in the correct format from an API. The following is an example of a successful and launch.\n"
   ]
  },
  {
   "cell_type": "markdown",
   "metadata": {},
   "source": [
    "![](https://cf-courses-data.s3.us.cloud-object-storage.appdomain.cloud/IBMDeveloperSkillsNetwork-DS0701EN-SkillsNetwork/lab_v2/images/landing_1.gif)\n"
   ]
  },
  {
   "cell_type": "markdown",
   "metadata": {},
   "source": [
    "Several examples of an unsuccessful landing are shown here:\n"
   ]
  },
  {
   "cell_type": "markdown",
   "metadata": {},
   "source": [
    "![](https://cf-courses-data.s3.us.cloud-object-storage.appdomain.cloud/IBMDeveloperSkillsNetwork-DS0701EN-SkillsNetwork/lab_v2/images/crash.gif)\n"
   ]
  },
  {
   "cell_type": "markdown",
   "metadata": {},
   "source": [
    "Most unsuccessful landings are planned. Space X performs a controlled landing in the oceans. \n"
   ]
  },
  {
   "cell_type": "markdown",
   "metadata": {},
   "source": [
    "## Objectives\n"
   ]
  },
  {
   "cell_type": "markdown",
   "metadata": {},
   "source": [
    "In this lab, you will make a get request to the SpaceX API. You will also do some basic data wrangling and formating. \n",
    "\n",
    "- Request to the SpaceX API\n",
    "- Clean the requested data\n"
   ]
  },
  {
   "cell_type": "markdown",
   "metadata": {},
   "source": [
    "----\n"
   ]
  },
  {
   "cell_type": "markdown",
   "metadata": {},
   "source": [
    "## Import Libraries and Define Auxiliary Functions\n"
   ]
  },
  {
   "cell_type": "markdown",
   "metadata": {},
   "source": [
    "We will import the following libraries into the lab\n"
   ]
  },
  {
   "cell_type": "code",
   "execution_count": 1,
   "metadata": {
    "tags": []
   },
   "outputs": [],
   "source": [
    "import sys, requests, numpy as np, pandas as pd, datetime"
   ]
  },
  {
   "cell_type": "markdown",
   "metadata": {},
   "source": [
    "Below we will define a series of helper functions that will help us use the API to extract information using identification numbers in the launch data.\n",
    "\n",
    "From the <code>rocket</code> column we would like to learn the booster name.\n"
   ]
  },
  {
   "cell_type": "code",
   "execution_count": 2,
   "metadata": {
    "tags": []
   },
   "outputs": [],
   "source": [
    "pd.set_option('display.max_columns', None)\n",
    "pd.set_option('display.max_colwidth', None)"
   ]
  },
  {
   "cell_type": "markdown",
   "metadata": {},
   "source": [
    "From the <code>launchpad</code> we would like to know the name of the launch site being used, the logitude, and the latitude.\n"
   ]
  },
  {
   "cell_type": "code",
   "execution_count": 3,
   "metadata": {
    "tags": []
   },
   "outputs": [],
   "source": [
    "pd.set_option('display.max_columns', None)\n",
    "pd.set_option('display.max_colwidth', None)\n",
    "\n",
    "# Step 3: Define helper functions to get additional data from the API\n",
    "def getBoosterVersion(data):\n",
    "    for x in data['rocket']:\n",
    "        if x:\n",
    "            response = requests.get(\"https://api.spacexdata.com/v4/rockets/\"+str(x)).json()\n",
    "            BoosterVersion.append(response['name'])\n",
    "\n",
    "\n",
    "def getLaunchSite(data):\n",
    "    for x in data['launchpad']:\n",
    "        if x:\n",
    "            response = requests.get(\"https://api.spacexdata.com/v4/launchpads/\"+str(x)).json()\n",
    "            Longitude.append(response['longitude'])\n",
    "            Latitude.append(response['latitude'])\n",
    "            LaunchSite.append(response['name'])\n",
    "\n",
    "\n",
    "def getPayloadData(data):\n",
    "    for load in data['payloads']:\n",
    "        if load:\n",
    "            response = requests.get(\"https://api.spacexdata.com/v4/payloads/\"+load).json()\n",
    "            PayloadMass.append(response['mass_kg'])\n",
    "            Orbit.append(response['orbit'])\n",
    "\n",
    "\n",
    "def getCoreData(data):\n",
    "    for core in data['cores']:\n",
    "        if core['core'] != None:\n",
    "            response = requests.get(\"https://api.spacexdata.com/v4/cores/\"+core['core']).json()\n",
    "            Block.append(response['block'])\n",
    "            ReusedCount.append(response['reuse_count'])\n",
    "            Serial.append(response['serial'])\n",
    "        else:\n",
    "            Block.append(None)\n",
    "            ReusedCount.append(None)\n",
    "            Serial.append(None)\n",
    "        Outcome.append(str(core['landing_success'])+' '+str(core['landing_type']))\n",
    "        Flights.append(core['flight'])\n",
    "        GridFins.append(core['gridfins'])\n",
    "        Reused.append(core['reused'])\n",
    "        Legs.append(core['legs'])\n",
    "        LandingPad.append(core['landpad'])\n"
   ]
  },
  {
   "cell_type": "markdown",
   "metadata": {},
   "source": [
    "From the <code>payload</code> we would like to learn the mass of the payload and the orbit that it is going to.\n"
   ]
  },
  {
   "cell_type": "code",
   "execution_count": 4,
   "metadata": {
    "tags": []
   },
   "outputs": [],
   "source": [
    "spacex_url = \"https://api.spacexdata.com/v4/launches/past\"\n",
    "response = requests.get(spacex_url)\n",
    "\n",
    "if response.status_code == 200:\n",
    "    json_data = response.json()\n",
    "    data = pd.json_normalize(json_data)\n",
    "else:\n",
    "    print(f\"Failed to fetch data. Status code: {response.status_code}\")"
   ]
  },
  {
   "cell_type": "markdown",
   "metadata": {},
   "source": [
    "From <code>cores</code> we would like to learn the outcome of the landing, the type of the landing, number of flights with that core, whether gridfins were used, wheter the core is reused, wheter legs were used, the landing pad used, the block of the core which is a number used to seperate version of cores, the number of times this specific core has been reused, and the serial of the core.\n"
   ]
  },
  {
   "cell_type": "code",
   "execution_count": 5,
   "metadata": {
    "tags": []
   },
   "outputs": [],
   "source": [
    "data = data[['rocket', 'payloads', 'launchpad', 'cores', 'flight_number', 'date_utc']]"
   ]
  },
  {
   "cell_type": "markdown",
   "metadata": {},
   "source": [
    "Now let's start requesting rocket launch data from SpaceX API with the following URL:\n"
   ]
  },
  {
   "cell_type": "code",
   "execution_count": 6,
   "metadata": {
    "tags": []
   },
   "outputs": [],
   "source": [
    "data = data[data['cores'].map(len) == 1]\n",
    "data = data[data['payloads'].map(len) == 1]"
   ]
  },
  {
   "cell_type": "code",
   "execution_count": 7,
   "metadata": {
    "tags": []
   },
   "outputs": [],
   "source": [
    "data['cores'] = data['cores'].map(lambda x: x[0])\n",
    "data['payloads'] = data['payloads'].map(lambda x: x[0])"
   ]
  },
  {
   "cell_type": "markdown",
   "metadata": {},
   "source": [
    "Check the content of the response\n"
   ]
  },
  {
   "cell_type": "code",
   "execution_count": 8,
   "metadata": {
    "tags": []
   },
   "outputs": [],
   "source": [
    "data['date'] = pd.to_datetime(data['date_utc']).dt.date\n",
    "data = data[data['date'] <= datetime.date(2020, 11, 13)]"
   ]
  },
  {
   "cell_type": "markdown",
   "metadata": {},
   "source": [
    "You should see the response contains massive information about SpaceX launches. Next, let's try to discover some more relevant information for this project.\n"
   ]
  },
  {
   "cell_type": "markdown",
   "metadata": {},
   "source": [
    "### Task 1: Request and parse the SpaceX launch data using the GET request\n"
   ]
  },
  {
   "cell_type": "markdown",
   "metadata": {},
   "source": [
    "To make the requested JSON results more consistent, we will use the following static response object for this project:\n"
   ]
  },
  {
   "cell_type": "code",
   "execution_count": 9,
   "metadata": {
    "tags": []
   },
   "outputs": [],
   "source": [
    "# static_json_url = 'https://cf-courses-data.s3.us.cloud-object-storage.appdomain.cloud/IBM-DS0321EN-SkillsNetwork/datasets/API_call_spacex_api.json'"
   ]
  },
  {
   "cell_type": "markdown",
   "metadata": {},
   "source": [
    "We should see that the request was successfull with the 200 status response code\n"
   ]
  },
  {
   "cell_type": "code",
   "execution_count": 10,
   "metadata": {
    "tags": []
   },
   "outputs": [],
   "source": [
    "# response.status_code"
   ]
  },
  {
   "cell_type": "code",
   "execution_count": 11,
   "metadata": {
    "tags": []
   },
   "outputs": [],
   "source": [
    "BoosterVersion = []\n",
    "PayloadMass = []\n",
    "Orbit = []\n",
    "LaunchSite = []\n",
    "Outcome = []\n",
    "Flights = []\n",
    "GridFins = []\n",
    "Reused = []\n",
    "Legs = []\n",
    "LandingPad = []\n",
    "Block = []\n",
    "ReusedCount = []\n",
    "Serial = []\n",
    "Longitude = []\n",
    "Latitude = []"
   ]
  },
  {
   "cell_type": "markdown",
   "metadata": {},
   "source": [
    "Now we decode the response content as a Json using <code>.json()</code> and turn it into a Pandas dataframe using <code>.json_normalize()</code>\n"
   ]
  },
  {
   "cell_type": "code",
   "execution_count": 12,
   "metadata": {
    "tags": []
   },
   "outputs": [],
   "source": [
    "getBoosterVersion(data)\n",
    "getLaunchSite(data)\n",
    "getPayloadData(data)\n",
    "getCoreData(data)"
   ]
  },
  {
   "cell_type": "markdown",
   "metadata": {},
   "source": [
    "Using the dataframe <code>data</code> print the first 5 rows\n"
   ]
  },
  {
   "cell_type": "code",
   "execution_count": 13,
   "metadata": {
    "tags": []
   },
   "outputs": [],
   "source": [
    "data['BoosterVersion'] = BoosterVersion\n",
    "data['LaunchSite'] = LaunchSite\n",
    "data['PayloadMass'] = PayloadMass\n",
    "data['Orbit'] = Orbit\n",
    "data['Outcome'] = Outcome\n",
    "data['Flights'] = Flights\n",
    "data['GridFins'] = GridFins\n",
    "data['Reused'] = Reused\n",
    "data['Legs'] = Legs\n",
    "data['LandingPad'] = LandingPad\n",
    "data['Block'] = Block\n",
    "data['ReusedCount'] = ReusedCount\n",
    "data['Serial'] = Serial\n",
    "data['Longitude'] = Longitude\n",
    "data['Latitude'] = Latitude"
   ]
  },
  {
   "cell_type": "markdown",
   "metadata": {},
   "source": [
    "You will notice that a lot of the data are IDs. For example the rocket column has no information about the rocket just an identification number.\n",
    "\n",
    "We will now use the API again to get information about the launches using the IDs given for each launch. Specifically we will be using columns <code>rocket</code>, <code>payloads</code>, <code>launchpad</code>, and <code>cores</code>.\n"
   ]
  },
  {
   "cell_type": "code",
   "execution_count": 14,
   "metadata": {
    "tags": []
   },
   "outputs": [],
   "source": [
    "data_falcon9 = data[data['BoosterVersion'] == 'Falcon 9']"
   ]
  },
  {
   "cell_type": "markdown",
   "metadata": {},
   "source": [
    "* From the <code>rocket</code> we would like to learn the booster name\n",
    "\n",
    "* From the <code>payload</code> we would like to learn the mass of the payload and the orbit that it is going to\n",
    "\n",
    "* From the <code>launchpad</code> we would like to know the name of the launch site being used, the longitude, and the latitude.\n",
    "\n",
    "* **From <code>cores</code> we would like to learn the outcome of the landing, the type of the landing, number of flights with that core, whether gridfins were used, whether the core is reused, whether legs were used, the landing pad used, the block of the core which is a number used to seperate version of cores, the number of times this specific core has been reused, and the serial of the core.**\n",
    "\n",
    "The data from these requests will be stored in lists and will be used to create a new dataframe.\n"
   ]
  },
  {
   "cell_type": "code",
   "execution_count": 15,
   "metadata": {
    "tags": []
   },
   "outputs": [],
   "source": [
    "data_falcon9 = data[data['BoosterVersion'] == 'Falcon 9']\n"
   ]
  },
  {
   "cell_type": "code",
   "execution_count": 16,
   "metadata": {
    "tags": []
   },
   "outputs": [
    {
     "name": "stdout",
     "output_type": "stream",
     "text": [
      "Filtered Data for Falcon 9 launches:\n",
      "                      rocket                  payloads  \\\n",
      "5   5e9d0d95eda69973a809d1ec  5eb0e4b7b6c3bb0006eeb1e7   \n",
      "7   5e9d0d95eda69973a809d1ec  5eb0e4bab6c3bb0006eeb1ea   \n",
      "9   5e9d0d95eda69973a809d1ec  5eb0e4bbb6c3bb0006eeb1ed   \n",
      "10  5e9d0d95eda69973a809d1ec  5eb0e4bbb6c3bb0006eeb1ee   \n",
      "11  5e9d0d95eda69973a809d1ec  5eb0e4bbb6c3bb0006eeb1ef   \n",
      "\n",
      "                   launchpad  \\\n",
      "5   5e9e4501f509094ba4566f84   \n",
      "7   5e9e4501f509094ba4566f84   \n",
      "9   5e9e4501f509094ba4566f84   \n",
      "10  5e9e4502f509092b78566f87   \n",
      "11  5e9e4501f509094ba4566f84   \n",
      "\n",
      "                                                                                                                                                                                                cores  \\\n",
      "5      {'core': '5e9e289ef359185f2b3b2628', 'flight': 1, 'gridfins': False, 'legs': False, 'reused': False, 'landing_attempt': False, 'landing_success': None, 'landing_type': None, 'landpad': None}   \n",
      "7      {'core': '5e9e289ef35918f39c3b262a', 'flight': 1, 'gridfins': False, 'legs': False, 'reused': False, 'landing_attempt': False, 'landing_success': None, 'landing_type': None, 'landpad': None}   \n",
      "9      {'core': '5e9e289ff3591884e03b262c', 'flight': 1, 'gridfins': False, 'legs': False, 'reused': False, 'landing_attempt': False, 'landing_success': None, 'landing_type': None, 'landpad': None}   \n",
      "10  {'core': '5e9e289ff359180ae23b262d', 'flight': 1, 'gridfins': False, 'legs': False, 'reused': False, 'landing_attempt': True, 'landing_success': False, 'landing_type': 'Ocean', 'landpad': None}   \n",
      "11     {'core': '5e9e289ff35918862c3b262e', 'flight': 1, 'gridfins': False, 'legs': False, 'reused': False, 'landing_attempt': False, 'landing_success': None, 'landing_type': None, 'landpad': None}   \n",
      "\n",
      "    flight_number                  date_utc        date BoosterVersion  \\\n",
      "5               6  2010-06-04T18:45:00.000Z  2010-06-04       Falcon 9   \n",
      "7               8  2012-05-22T07:44:00.000Z  2012-05-22       Falcon 9   \n",
      "9              10  2013-03-01T19:10:00.000Z  2013-03-01       Falcon 9   \n",
      "10             11  2013-09-29T16:00:00.000Z  2013-09-29       Falcon 9   \n",
      "11             12  2013-12-03T22:41:00.000Z  2013-12-03       Falcon 9   \n",
      "\n",
      "      LaunchSite  PayloadMass Orbit      Outcome  Flights  GridFins  Reused  \\\n",
      "5   CCSFS SLC 40          NaN   LEO    None None        1     False   False   \n",
      "7   CCSFS SLC 40        525.0   LEO    None None        1     False   False   \n",
      "9   CCSFS SLC 40        677.0   ISS    None None        1     False   False   \n",
      "10   VAFB SLC 4E        500.0    PO  False Ocean        1     False   False   \n",
      "11  CCSFS SLC 40       3170.0   GTO    None None        1     False   False   \n",
      "\n",
      "     Legs LandingPad  Block  ReusedCount Serial   Longitude   Latitude  \\\n",
      "5   False       None    1.0            0  B0003  -80.577366  28.561857   \n",
      "7   False       None    1.0            0  B0005  -80.577366  28.561857   \n",
      "9   False       None    1.0            0  B0007  -80.577366  28.561857   \n",
      "10  False       None    1.0            0  B1003 -120.610829  34.632093   \n",
      "11  False       None    1.0            0  B1004  -80.577366  28.561857   \n",
      "\n",
      "    FlightNumber  \n",
      "5              1  \n",
      "7              2  \n",
      "9              3  \n",
      "10             4  \n",
      "11             5  \n"
     ]
    }
   ],
   "source": [
    "# Get rid of copy warning (hopefully)\n",
    "data_falcon9 = data[data['BoosterVersion'] == 'Falcon 9'].copy()\n",
    "\n",
    "data_falcon9.loc[:, 'FlightNumber'] = list(range(1, data_falcon9.shape[0] + 1))\n",
    "\n",
    "print(\"Filtered Data for Falcon 9 launches:\")\n",
    "print(data_falcon9.head())"
   ]
  },
  {
   "cell_type": "code",
   "execution_count": 17,
   "metadata": {
    "tags": []
   },
   "outputs": [
    {
     "name": "stdout",
     "output_type": "stream",
     "text": [
      "Filtered Data for Falcon 9 launches:\n",
      "                      rocket                  payloads  \\\n",
      "5   5e9d0d95eda69973a809d1ec  5eb0e4b7b6c3bb0006eeb1e7   \n",
      "7   5e9d0d95eda69973a809d1ec  5eb0e4bab6c3bb0006eeb1ea   \n",
      "9   5e9d0d95eda69973a809d1ec  5eb0e4bbb6c3bb0006eeb1ed   \n",
      "10  5e9d0d95eda69973a809d1ec  5eb0e4bbb6c3bb0006eeb1ee   \n",
      "11  5e9d0d95eda69973a809d1ec  5eb0e4bbb6c3bb0006eeb1ef   \n",
      "\n",
      "                   launchpad  \\\n",
      "5   5e9e4501f509094ba4566f84   \n",
      "7   5e9e4501f509094ba4566f84   \n",
      "9   5e9e4501f509094ba4566f84   \n",
      "10  5e9e4502f509092b78566f87   \n",
      "11  5e9e4501f509094ba4566f84   \n",
      "\n",
      "                                                                                                                                                                                                cores  \\\n",
      "5      {'core': '5e9e289ef359185f2b3b2628', 'flight': 1, 'gridfins': False, 'legs': False, 'reused': False, 'landing_attempt': False, 'landing_success': None, 'landing_type': None, 'landpad': None}   \n",
      "7      {'core': '5e9e289ef35918f39c3b262a', 'flight': 1, 'gridfins': False, 'legs': False, 'reused': False, 'landing_attempt': False, 'landing_success': None, 'landing_type': None, 'landpad': None}   \n",
      "9      {'core': '5e9e289ff3591884e03b262c', 'flight': 1, 'gridfins': False, 'legs': False, 'reused': False, 'landing_attempt': False, 'landing_success': None, 'landing_type': None, 'landpad': None}   \n",
      "10  {'core': '5e9e289ff359180ae23b262d', 'flight': 1, 'gridfins': False, 'legs': False, 'reused': False, 'landing_attempt': True, 'landing_success': False, 'landing_type': 'Ocean', 'landpad': None}   \n",
      "11     {'core': '5e9e289ff35918862c3b262e', 'flight': 1, 'gridfins': False, 'legs': False, 'reused': False, 'landing_attempt': False, 'landing_success': None, 'landing_type': None, 'landpad': None}   \n",
      "\n",
      "    flight_number                  date_utc        date BoosterVersion  \\\n",
      "5               6  2010-06-04T18:45:00.000Z  2010-06-04       Falcon 9   \n",
      "7               8  2012-05-22T07:44:00.000Z  2012-05-22       Falcon 9   \n",
      "9              10  2013-03-01T19:10:00.000Z  2013-03-01       Falcon 9   \n",
      "10             11  2013-09-29T16:00:00.000Z  2013-09-29       Falcon 9   \n",
      "11             12  2013-12-03T22:41:00.000Z  2013-12-03       Falcon 9   \n",
      "\n",
      "      LaunchSite  PayloadMass Orbit      Outcome  Flights  GridFins  Reused  \\\n",
      "5   CCSFS SLC 40          NaN   LEO    None None        1     False   False   \n",
      "7   CCSFS SLC 40        525.0   LEO    None None        1     False   False   \n",
      "9   CCSFS SLC 40        677.0   ISS    None None        1     False   False   \n",
      "10   VAFB SLC 4E        500.0    PO  False Ocean        1     False   False   \n",
      "11  CCSFS SLC 40       3170.0   GTO    None None        1     False   False   \n",
      "\n",
      "     Legs LandingPad  Block  ReusedCount Serial   Longitude   Latitude  \\\n",
      "5   False       None    1.0            0  B0003  -80.577366  28.561857   \n",
      "7   False       None    1.0            0  B0005  -80.577366  28.561857   \n",
      "9   False       None    1.0            0  B0007  -80.577366  28.561857   \n",
      "10  False       None    1.0            0  B1003 -120.610829  34.632093   \n",
      "11  False       None    1.0            0  B1004  -80.577366  28.561857   \n",
      "\n",
      "    FlightNumber  \n",
      "5              1  \n",
      "7              2  \n",
      "9              3  \n",
      "10             4  \n",
      "11             5  \n"
     ]
    }
   ],
   "source": [
    "print(\"Filtered Data for Falcon 9 launches:\")\n",
    "print(data_falcon9.head())"
   ]
  },
  {
   "cell_type": "markdown",
   "metadata": {},
   "source": [
    "These functions will apply the outputs globally to the above variables. Let's take a looks at <code>BoosterVersion</code> variable. Before we apply  <code>getBoosterVersion</code> the list is empty:\n"
   ]
  },
  {
   "cell_type": "code",
   "execution_count": 18,
   "metadata": {
    "tags": []
   },
   "outputs": [
    {
     "data": {
      "text/plain": [
       "['Falcon 1',\n",
       " 'Falcon 1',\n",
       " 'Falcon 1',\n",
       " 'Falcon 1',\n",
       " 'Falcon 9',\n",
       " 'Falcon 9',\n",
       " 'Falcon 9',\n",
       " 'Falcon 9',\n",
       " 'Falcon 9',\n",
       " 'Falcon 9',\n",
       " 'Falcon 9',\n",
       " 'Falcon 9',\n",
       " 'Falcon 9',\n",
       " 'Falcon 9',\n",
       " 'Falcon 9',\n",
       " 'Falcon 9',\n",
       " 'Falcon 9',\n",
       " 'Falcon 9',\n",
       " 'Falcon 9',\n",
       " 'Falcon 9',\n",
       " 'Falcon 9',\n",
       " 'Falcon 9',\n",
       " 'Falcon 9',\n",
       " 'Falcon 9',\n",
       " 'Falcon 9',\n",
       " 'Falcon 9',\n",
       " 'Falcon 9',\n",
       " 'Falcon 9',\n",
       " 'Falcon 9',\n",
       " 'Falcon 9',\n",
       " 'Falcon 9',\n",
       " 'Falcon 9',\n",
       " 'Falcon 9',\n",
       " 'Falcon 9',\n",
       " 'Falcon 9',\n",
       " 'Falcon 9',\n",
       " 'Falcon 9',\n",
       " 'Falcon 9',\n",
       " 'Falcon 9',\n",
       " 'Falcon 9',\n",
       " 'Falcon 9',\n",
       " 'Falcon 9',\n",
       " 'Falcon 9',\n",
       " 'Falcon 9',\n",
       " 'Falcon 9',\n",
       " 'Falcon 9',\n",
       " 'Falcon 9',\n",
       " 'Falcon 9',\n",
       " 'Falcon 9',\n",
       " 'Falcon 9',\n",
       " 'Falcon 9',\n",
       " 'Falcon 9',\n",
       " 'Falcon 9',\n",
       " 'Falcon 9',\n",
       " 'Falcon 9',\n",
       " 'Falcon 9',\n",
       " 'Falcon 9',\n",
       " 'Falcon 9',\n",
       " 'Falcon 9',\n",
       " 'Falcon 9',\n",
       " 'Falcon 9',\n",
       " 'Falcon 9',\n",
       " 'Falcon 9',\n",
       " 'Falcon 9',\n",
       " 'Falcon 9',\n",
       " 'Falcon 9',\n",
       " 'Falcon 9',\n",
       " 'Falcon 9',\n",
       " 'Falcon 9',\n",
       " 'Falcon 9',\n",
       " 'Falcon 9',\n",
       " 'Falcon 9',\n",
       " 'Falcon 9',\n",
       " 'Falcon 9',\n",
       " 'Falcon 9',\n",
       " 'Falcon 9',\n",
       " 'Falcon 9',\n",
       " 'Falcon 9',\n",
       " 'Falcon 9',\n",
       " 'Falcon 9',\n",
       " 'Falcon 9',\n",
       " 'Falcon 9',\n",
       " 'Falcon 9',\n",
       " 'Falcon 9',\n",
       " 'Falcon 9',\n",
       " 'Falcon 9',\n",
       " 'Falcon 9',\n",
       " 'Falcon 9',\n",
       " 'Falcon 9',\n",
       " 'Falcon 9',\n",
       " 'Falcon 9',\n",
       " 'Falcon 9',\n",
       " 'Falcon 9',\n",
       " 'Falcon 9']"
      ]
     },
     "execution_count": 18,
     "metadata": {},
     "output_type": "execute_result"
    }
   ],
   "source": [
    "BoosterVersion"
   ]
  },
  {
   "cell_type": "markdown",
   "metadata": {},
   "source": [
    "Now, let's apply <code> getBoosterVersion</code> function method to get the booster version\n"
   ]
  },
  {
   "cell_type": "code",
   "execution_count": 19,
   "metadata": {
    "tags": []
   },
   "outputs": [],
   "source": [
    "# Call getBoosterVersion\n",
    "getBoosterVersion(data)"
   ]
  },
  {
   "cell_type": "markdown",
   "metadata": {},
   "source": [
    "the list has now been update \n"
   ]
  },
  {
   "cell_type": "code",
   "execution_count": 20,
   "metadata": {
    "tags": []
   },
   "outputs": [
    {
     "data": {
      "text/plain": [
       "['Falcon 1', 'Falcon 1', 'Falcon 1', 'Falcon 1', 'Falcon 9']"
      ]
     },
     "execution_count": 20,
     "metadata": {},
     "output_type": "execute_result"
    }
   ],
   "source": [
    "BoosterVersion[0:5]"
   ]
  },
  {
   "cell_type": "markdown",
   "metadata": {},
   "source": [
    "we can apply the rest of the  functions here:\n"
   ]
  },
  {
   "cell_type": "code",
   "execution_count": 21,
   "metadata": {
    "tags": []
   },
   "outputs": [],
   "source": [
    "# Call getLaunchSite\n",
    "getLaunchSite(data)"
   ]
  },
  {
   "cell_type": "code",
   "execution_count": 22,
   "metadata": {
    "tags": []
   },
   "outputs": [],
   "source": [
    "# Call getPayloadData\n",
    "getPayloadData(data)"
   ]
  },
  {
   "cell_type": "code",
   "execution_count": 23,
   "metadata": {
    "tags": []
   },
   "outputs": [],
   "source": [
    "# Call getCoreData\n",
    "getCoreData(data)"
   ]
  },
  {
   "cell_type": "markdown",
   "metadata": {},
   "source": [
    "Finally lets construct our dataset using the data we have obtained. We we combine the columns into a dictionary.\n"
   ]
  },
  {
   "cell_type": "code",
   "execution_count": 24,
   "metadata": {
    "tags": []
   },
   "outputs": [],
   "source": [
    "# Filter for Falcon 9 launches  \n",
    "data_falcon9 = data[data['rocket'] == '5e9d0d95eda69973a809d1ec']  # Falcon 9 rocket ID\n"
   ]
  },
  {
   "cell_type": "code",
   "execution_count": 25,
   "metadata": {
    "tags": []
   },
   "outputs": [],
   "source": [
    "# Clear existing global variables\n",
    "BoosterVersion = []\n",
    "PayloadMass = []\n",
    "Orbit = []\n",
    "LaunchSite = []\n",
    "Outcome = []\n",
    "Flights = []\n",
    "GridFins = []\n",
    "Reused = []\n",
    "Legs = []\n",
    "LandingPad = []\n",
    "Block = []\n",
    "ReusedCount = []\n",
    "Serial = []\n",
    "Longitude = []\n",
    "Latitude = []\n",
    "\n",
    "# Apply functions to data_falcon9  \n",
    "getBoosterVersion(data_falcon9)  \n",
    "getLaunchSite(data_falcon9)  \n",
    "getPayloadData(data_falcon9)  \n",
    "getCoreData(data_falcon9)\n"
   ]
  },
  {
   "cell_type": "code",
   "execution_count": 26,
   "metadata": {
    "tags": []
   },
   "outputs": [],
   "source": [
    "launch_dict = {  \n",
    "    'FlightNumber': list(data_falcon9['flight_number']),  \n",
    "    'Date': list(data_falcon9['date']),  \n",
    "    'BoosterVersion': BoosterVersion,  \n",
    "    'PayloadMass': PayloadMass,  \n",
    "    'Orbit': Orbit,  \n",
    "    'LaunchSite': LaunchSite,  \n",
    "    'Outcome': Outcome,  \n",
    "    'Flights': Flights,  \n",
    "    'GridFins': GridFins,  \n",
    "    'Reused': Reused,  \n",
    "    'Legs': Legs,  \n",
    "    'LandingPad': LandingPad,  \n",
    "    'Block': Block,  \n",
    "    'ReusedCount': ReusedCount,  \n",
    "    'Serial': Serial,  \n",
    "    'Longitude': Longitude,  \n",
    "    'Latitude': Latitude  \n",
    "}"
   ]
  },
  {
   "cell_type": "markdown",
   "metadata": {},
   "source": [
    "Then, we need to create a Pandas data frame from the dictionary launch_dict.\n"
   ]
  },
  {
   "cell_type": "code",
   "execution_count": 27,
   "metadata": {
    "tags": []
   },
   "outputs": [
    {
     "name": "stdout",
     "output_type": "stream",
     "text": [
      "FlightNumber: 90\n",
      "Date: 90\n",
      "BoosterVersion: 90\n",
      "PayloadMass: 90\n",
      "Orbit: 90\n",
      "LaunchSite: 90\n",
      "Outcome: 90\n",
      "Flights: 90\n",
      "GridFins: 90\n",
      "Reused: 90\n",
      "Legs: 90\n",
      "LandingPad: 90\n",
      "Block: 90\n",
      "ReusedCount: 90\n",
      "Serial: 90\n",
      "Longitude: 90\n",
      "Latitude: 90\n"
     ]
    }
   ],
   "source": [
    "for key, value in launch_dict.items():\n",
    "    print(f\"{key}: {len(value)}\")"
   ]
  },
  {
   "cell_type": "code",
   "execution_count": 28,
   "metadata": {
    "tags": []
   },
   "outputs": [
    {
     "name": "stdout",
     "output_type": "stream",
     "text": [
      "<class 'pandas.core.frame.DataFrame'>\n",
      "RangeIndex: 90 entries, 0 to 89\n",
      "Data columns (total 17 columns):\n",
      " #   Column          Non-Null Count  Dtype  \n",
      "---  ------          --------------  -----  \n",
      " 0   FlightNumber    90 non-null     int64  \n",
      " 1   Date            90 non-null     object \n",
      " 2   BoosterVersion  90 non-null     object \n",
      " 3   PayloadMass     85 non-null     float64\n",
      " 4   Orbit           90 non-null     object \n",
      " 5   LaunchSite      90 non-null     object \n",
      " 6   Outcome         90 non-null     object \n",
      " 7   Flights         90 non-null     int64  \n",
      " 8   GridFins        90 non-null     bool   \n",
      " 9   Reused          90 non-null     bool   \n",
      " 10  Legs            90 non-null     bool   \n",
      " 11  LandingPad      64 non-null     object \n",
      " 12  Block           90 non-null     int64  \n",
      " 13  ReusedCount     90 non-null     int64  \n",
      " 14  Serial          90 non-null     object \n",
      " 15  Longitude       90 non-null     float64\n",
      " 16  Latitude        90 non-null     float64\n",
      "dtypes: bool(3), float64(3), int64(4), object(7)\n",
      "memory usage: 10.2+ KB\n"
     ]
    }
   ],
   "source": [
    "launch_data_df = pd.DataFrame(launch_dict)\n",
    "launch_data_df.info()"
   ]
  },
  {
   "cell_type": "markdown",
   "metadata": {},
   "source": [
    "Show the summary of the dataframe\n"
   ]
  },
  {
   "cell_type": "code",
   "execution_count": 29,
   "metadata": {
    "tags": []
   },
   "outputs": [
    {
     "name": "stdout",
     "output_type": "stream",
     "text": [
      "       FlightNumber   PayloadMass    Flights      Block  ReusedCount  \\\n",
      "count     90.000000     85.000000  90.000000  90.000000    90.000000   \n",
      "mean      56.477778   6123.547647   1.788889   3.500000     3.188889   \n",
      "std       29.232977   4870.916417   1.213172   1.595288     4.194417   \n",
      "min        6.000000    350.000000   1.000000   1.000000     0.000000   \n",
      "25%       32.250000   2482.000000   1.000000   2.000000     0.000000   \n",
      "50%       55.500000   4535.000000   1.000000   4.000000     1.000000   \n",
      "75%       82.750000   9600.000000   2.000000   5.000000     4.000000   \n",
      "max      106.000000  15600.000000   6.000000   5.000000    13.000000   \n",
      "\n",
      "        Longitude   Latitude  \n",
      "count   90.000000  90.000000  \n",
      "mean   -86.366477  29.449963  \n",
      "std     14.149518   2.141306  \n",
      "min   -120.610829  28.561857  \n",
      "25%    -80.603956  28.561857  \n",
      "50%    -80.577366  28.561857  \n",
      "75%    -80.577366  28.608058  \n",
      "max    -80.577366  34.632093  \n"
     ]
    }
   ],
   "source": [
    "# Display a statistical summary of the DataFrame\n",
    "print(launch_data_df.describe())\n"
   ]
  },
  {
   "cell_type": "code",
   "execution_count": 30,
   "metadata": {
    "tags": []
   },
   "outputs": [
    {
     "name": "stdout",
     "output_type": "stream",
     "text": [
      "                     rocket                  payloads  \\\n",
      "0  5e9d0d95eda69955f709d1eb  5eb0e4b5b6c3bb0006eeb1e1   \n",
      "1  5e9d0d95eda69955f709d1eb  5eb0e4b6b6c3bb0006eeb1e2   \n",
      "3  5e9d0d95eda69955f709d1eb  5eb0e4b7b6c3bb0006eeb1e5   \n",
      "4  5e9d0d95eda69955f709d1eb  5eb0e4b7b6c3bb0006eeb1e6   \n",
      "5  5e9d0d95eda69973a809d1ec  5eb0e4b7b6c3bb0006eeb1e7   \n",
      "\n",
      "                  launchpad  \\\n",
      "0  5e9e4502f5090995de566f86   \n",
      "1  5e9e4502f5090995de566f86   \n",
      "3  5e9e4502f5090995de566f86   \n",
      "4  5e9e4502f5090995de566f86   \n",
      "5  5e9e4501f509094ba4566f84   \n",
      "\n",
      "                                                                                                                                                                                            cores  \\\n",
      "0  {'core': '5e9e289df35918033d3b2623', 'flight': 1, 'gridfins': False, 'legs': False, 'reused': False, 'landing_attempt': False, 'landing_success': None, 'landing_type': None, 'landpad': None}   \n",
      "1  {'core': '5e9e289ef35918416a3b2624', 'flight': 1, 'gridfins': False, 'legs': False, 'reused': False, 'landing_attempt': False, 'landing_success': None, 'landing_type': None, 'landpad': None}   \n",
      "3  {'core': '5e9e289ef3591855dc3b2626', 'flight': 1, 'gridfins': False, 'legs': False, 'reused': False, 'landing_attempt': False, 'landing_success': None, 'landing_type': None, 'landpad': None}   \n",
      "4  {'core': '5e9e289ef359184f103b2627', 'flight': 1, 'gridfins': False, 'legs': False, 'reused': False, 'landing_attempt': False, 'landing_success': None, 'landing_type': None, 'landpad': None}   \n",
      "5  {'core': '5e9e289ef359185f2b3b2628', 'flight': 1, 'gridfins': False, 'legs': False, 'reused': False, 'landing_attempt': False, 'landing_success': None, 'landing_type': None, 'landpad': None}   \n",
      "\n",
      "   flight_number                  date_utc        date BoosterVersion  \\\n",
      "0              1  2006-03-24T22:30:00.000Z  2006-03-24       Falcon 1   \n",
      "1              2  2007-03-21T01:10:00.000Z  2007-03-21       Falcon 1   \n",
      "3              4  2008-09-28T23:15:00.000Z  2008-09-28       Falcon 1   \n",
      "4              5  2009-07-13T03:35:00.000Z  2009-07-13       Falcon 1   \n",
      "5              6  2010-06-04T18:45:00.000Z  2010-06-04       Falcon 9   \n",
      "\n",
      "        LaunchSite  PayloadMass Orbit    Outcome  Flights  GridFins  Reused  \\\n",
      "0  Kwajalein Atoll         20.0   LEO  None None        1     False   False   \n",
      "1  Kwajalein Atoll          NaN   LEO  None None        1     False   False   \n",
      "3  Kwajalein Atoll        165.0   LEO  None None        1     False   False   \n",
      "4  Kwajalein Atoll        200.0   LEO  None None        1     False   False   \n",
      "5     CCSFS SLC 40          NaN   LEO  None None        1     False   False   \n",
      "\n",
      "    Legs LandingPad  Block  ReusedCount    Serial   Longitude   Latitude  \n",
      "0  False       None    NaN            0  Merlin1A  167.743129   9.047721  \n",
      "1  False       None    NaN            0  Merlin2A  167.743129   9.047721  \n",
      "3  False       None    NaN            0  Merlin2C  167.743129   9.047721  \n",
      "4  False       None    NaN            0  Merlin3C  167.743129   9.047721  \n",
      "5  False       None    1.0            0     B0003  -80.577366  28.561857  \n"
     ]
    }
   ],
   "source": [
    "print(data.head())"
   ]
  },
  {
   "cell_type": "markdown",
   "metadata": {},
   "source": [
    "Finally we will remove the Falcon 1 launches keeping only the Falcon 9 launches. Filter the data dataframe using the <code>BoosterVersion</code> column to only keep the Falcon 9 launches. Save the filtered data to a new dataframe called <code>data_falcon9</code>.\n"
   ]
  },
  {
   "cell_type": "markdown",
   "metadata": {},
   "source": [
    "### Task 2: Filter the dataframe to only include `Falcon 9` launches\n"
   ]
  },
  {
   "cell_type": "code",
   "execution_count": 31,
   "metadata": {
    "tags": []
   },
   "outputs": [
    {
     "name": "stdout",
     "output_type": "stream",
     "text": [
      "Index(['rocket', 'payloads', 'launchpad', 'cores', 'flight_number', 'date_utc',\n",
      "       'date', 'BoosterVersion', 'LaunchSite', 'PayloadMass', 'Orbit',\n",
      "       'Outcome', 'Flights', 'GridFins', 'Reused', 'Legs', 'LandingPad',\n",
      "       'Block', 'ReusedCount', 'Serial', 'Longitude', 'Latitude'],\n",
      "      dtype='object')\n",
      "                     rocket                  payloads  \\\n",
      "0  5e9d0d95eda69955f709d1eb  5eb0e4b5b6c3bb0006eeb1e1   \n",
      "1  5e9d0d95eda69955f709d1eb  5eb0e4b6b6c3bb0006eeb1e2   \n",
      "3  5e9d0d95eda69955f709d1eb  5eb0e4b7b6c3bb0006eeb1e5   \n",
      "4  5e9d0d95eda69955f709d1eb  5eb0e4b7b6c3bb0006eeb1e6   \n",
      "5  5e9d0d95eda69973a809d1ec  5eb0e4b7b6c3bb0006eeb1e7   \n",
      "\n",
      "                  launchpad  \\\n",
      "0  5e9e4502f5090995de566f86   \n",
      "1  5e9e4502f5090995de566f86   \n",
      "3  5e9e4502f5090995de566f86   \n",
      "4  5e9e4502f5090995de566f86   \n",
      "5  5e9e4501f509094ba4566f84   \n",
      "\n",
      "                                                                                                                                                                                            cores  \\\n",
      "0  {'core': '5e9e289df35918033d3b2623', 'flight': 1, 'gridfins': False, 'legs': False, 'reused': False, 'landing_attempt': False, 'landing_success': None, 'landing_type': None, 'landpad': None}   \n",
      "1  {'core': '5e9e289ef35918416a3b2624', 'flight': 1, 'gridfins': False, 'legs': False, 'reused': False, 'landing_attempt': False, 'landing_success': None, 'landing_type': None, 'landpad': None}   \n",
      "3  {'core': '5e9e289ef3591855dc3b2626', 'flight': 1, 'gridfins': False, 'legs': False, 'reused': False, 'landing_attempt': False, 'landing_success': None, 'landing_type': None, 'landpad': None}   \n",
      "4  {'core': '5e9e289ef359184f103b2627', 'flight': 1, 'gridfins': False, 'legs': False, 'reused': False, 'landing_attempt': False, 'landing_success': None, 'landing_type': None, 'landpad': None}   \n",
      "5  {'core': '5e9e289ef359185f2b3b2628', 'flight': 1, 'gridfins': False, 'legs': False, 'reused': False, 'landing_attempt': False, 'landing_success': None, 'landing_type': None, 'landpad': None}   \n",
      "\n",
      "   flight_number                  date_utc        date BoosterVersion  \\\n",
      "0              1  2006-03-24T22:30:00.000Z  2006-03-24       Falcon 1   \n",
      "1              2  2007-03-21T01:10:00.000Z  2007-03-21       Falcon 1   \n",
      "3              4  2008-09-28T23:15:00.000Z  2008-09-28       Falcon 1   \n",
      "4              5  2009-07-13T03:35:00.000Z  2009-07-13       Falcon 1   \n",
      "5              6  2010-06-04T18:45:00.000Z  2010-06-04       Falcon 9   \n",
      "\n",
      "        LaunchSite  PayloadMass Orbit    Outcome  Flights  GridFins  Reused  \\\n",
      "0  Kwajalein Atoll         20.0   LEO  None None        1     False   False   \n",
      "1  Kwajalein Atoll          NaN   LEO  None None        1     False   False   \n",
      "3  Kwajalein Atoll        165.0   LEO  None None        1     False   False   \n",
      "4  Kwajalein Atoll        200.0   LEO  None None        1     False   False   \n",
      "5     CCSFS SLC 40          NaN   LEO  None None        1     False   False   \n",
      "\n",
      "    Legs LandingPad  Block  ReusedCount    Serial   Longitude   Latitude  \n",
      "0  False       None    NaN            0  Merlin1A  167.743129   9.047721  \n",
      "1  False       None    NaN            0  Merlin2A  167.743129   9.047721  \n",
      "3  False       None    NaN            0  Merlin2C  167.743129   9.047721  \n",
      "4  False       None    NaN            0  Merlin3C  167.743129   9.047721  \n",
      "5  False       None    1.0            0     B0003  -80.577366  28.561857  \n"
     ]
    }
   ],
   "source": [
    "print(data.columns)\n",
    "\n",
    "print(data.head())"
   ]
  },
  {
   "cell_type": "code",
   "execution_count": 32,
   "metadata": {
    "tags": []
   },
   "outputs": [
    {
     "name": "stdout",
     "output_type": "stream",
     "text": [
      "Empty DataFrame\n",
      "Columns: [rocket, payloads, launchpad, cores, flight_number, date_utc, date, BoosterVersion, LaunchSite, PayloadMass, Orbit, Outcome, Flights, GridFins, Reused, Legs, LandingPad, Block, ReusedCount, Serial, Longitude, Latitude]\n",
      "Index: []\n"
     ]
    }
   ],
   "source": [
    "# Proceed with filtering out rows that have multiple payloads (length of list should be 1)\n",
    "data = data[data['payloads'].map(len) == 1]\n",
    "\n",
    "# Convert 'cores' from a dict to a single item (since it's treated as a dict with core details)\n",
    "data['cores'] = data['cores'].map(lambda x: x if isinstance(x, dict) else None)\n",
    "\n",
    "# Now the DataFrame should be correctly filtered and formatted for further use\n",
    "print(data.head())\n"
   ]
  },
  {
   "cell_type": "code",
   "execution_count": 33,
   "metadata": {
    "tags": []
   },
   "outputs": [
    {
     "name": "stdout",
     "output_type": "stream",
     "text": [
      "Index(['rocket', 'payloads', 'launchpad', 'cores', 'flight_number', 'date_utc',\n",
      "       'date', 'BoosterVersion', 'LaunchSite', 'PayloadMass', 'Orbit',\n",
      "       'Outcome', 'Flights', 'GridFins', 'Reused', 'Legs', 'LandingPad',\n",
      "       'Block', 'ReusedCount', 'Serial', 'Longitude', 'Latitude'],\n",
      "      dtype='object')\n"
     ]
    }
   ],
   "source": [
    "print(data.columns)"
   ]
  },
  {
   "cell_type": "code",
   "execution_count": 34,
   "metadata": {
    "tags": []
   },
   "outputs": [
    {
     "name": "stdout",
     "output_type": "stream",
     "text": [
      "Empty DataFrame\n",
      "Columns: [rocket, payloads, launchpad, cores, flight_number, date_utc, date, BoosterVersion, LaunchSite, PayloadMass, Orbit, Outcome, Flights, GridFins, Reused, Legs, LandingPad, Block, ReusedCount, Serial, Longitude, Latitude]\n",
      "Index: []\n"
     ]
    }
   ],
   "source": [
    "print(data.head())"
   ]
  },
  {
   "cell_type": "code",
   "execution_count": 35,
   "metadata": {
    "tags": []
   },
   "outputs": [
    {
     "data": {
      "text/html": [
       "<div>\n",
       "<style scoped>\n",
       "    .dataframe tbody tr th:only-of-type {\n",
       "        vertical-align: middle;\n",
       "    }\n",
       "\n",
       "    .dataframe tbody tr th {\n",
       "        vertical-align: top;\n",
       "    }\n",
       "\n",
       "    .dataframe thead th {\n",
       "        text-align: right;\n",
       "    }\n",
       "</style>\n",
       "<table border=\"1\" class=\"dataframe\">\n",
       "  <thead>\n",
       "    <tr style=\"text-align: right;\">\n",
       "      <th></th>\n",
       "      <th>rocket</th>\n",
       "      <th>payloads</th>\n",
       "      <th>launchpad</th>\n",
       "      <th>cores</th>\n",
       "      <th>flight_number</th>\n",
       "      <th>date_utc</th>\n",
       "      <th>date</th>\n",
       "      <th>BoosterVersion</th>\n",
       "      <th>LaunchSite</th>\n",
       "      <th>PayloadMass</th>\n",
       "      <th>Orbit</th>\n",
       "      <th>Outcome</th>\n",
       "      <th>Flights</th>\n",
       "      <th>GridFins</th>\n",
       "      <th>Reused</th>\n",
       "      <th>Legs</th>\n",
       "      <th>LandingPad</th>\n",
       "      <th>Block</th>\n",
       "      <th>ReusedCount</th>\n",
       "      <th>Serial</th>\n",
       "      <th>Longitude</th>\n",
       "      <th>Latitude</th>\n",
       "      <th>FlightNumber</th>\n",
       "    </tr>\n",
       "  </thead>\n",
       "  <tbody>\n",
       "    <tr>\n",
       "      <th>5</th>\n",
       "      <td>5e9d0d95eda69973a809d1ec</td>\n",
       "      <td>5eb0e4b7b6c3bb0006eeb1e7</td>\n",
       "      <td>5e9e4501f509094ba4566f84</td>\n",
       "      <td>{'core': '5e9e289ef359185f2b3b2628', 'flight': 1, 'gridfins': False, 'legs': False, 'reused': False, 'landing_attempt': False, 'landing_success': None, 'landing_type': None, 'landpad': None}</td>\n",
       "      <td>6</td>\n",
       "      <td>2010-06-04T18:45:00.000Z</td>\n",
       "      <td>2010-06-04</td>\n",
       "      <td>Falcon 9</td>\n",
       "      <td>CCSFS SLC 40</td>\n",
       "      <td>NaN</td>\n",
       "      <td>LEO</td>\n",
       "      <td>None None</td>\n",
       "      <td>1</td>\n",
       "      <td>False</td>\n",
       "      <td>False</td>\n",
       "      <td>False</td>\n",
       "      <td>None</td>\n",
       "      <td>1.0</td>\n",
       "      <td>0</td>\n",
       "      <td>B0003</td>\n",
       "      <td>-80.577366</td>\n",
       "      <td>28.561857</td>\n",
       "      <td>1</td>\n",
       "    </tr>\n",
       "    <tr>\n",
       "      <th>7</th>\n",
       "      <td>5e9d0d95eda69973a809d1ec</td>\n",
       "      <td>5eb0e4bab6c3bb0006eeb1ea</td>\n",
       "      <td>5e9e4501f509094ba4566f84</td>\n",
       "      <td>{'core': '5e9e289ef35918f39c3b262a', 'flight': 1, 'gridfins': False, 'legs': False, 'reused': False, 'landing_attempt': False, 'landing_success': None, 'landing_type': None, 'landpad': None}</td>\n",
       "      <td>8</td>\n",
       "      <td>2012-05-22T07:44:00.000Z</td>\n",
       "      <td>2012-05-22</td>\n",
       "      <td>Falcon 9</td>\n",
       "      <td>CCSFS SLC 40</td>\n",
       "      <td>525.0</td>\n",
       "      <td>LEO</td>\n",
       "      <td>None None</td>\n",
       "      <td>1</td>\n",
       "      <td>False</td>\n",
       "      <td>False</td>\n",
       "      <td>False</td>\n",
       "      <td>None</td>\n",
       "      <td>1.0</td>\n",
       "      <td>0</td>\n",
       "      <td>B0005</td>\n",
       "      <td>-80.577366</td>\n",
       "      <td>28.561857</td>\n",
       "      <td>2</td>\n",
       "    </tr>\n",
       "    <tr>\n",
       "      <th>9</th>\n",
       "      <td>5e9d0d95eda69973a809d1ec</td>\n",
       "      <td>5eb0e4bbb6c3bb0006eeb1ed</td>\n",
       "      <td>5e9e4501f509094ba4566f84</td>\n",
       "      <td>{'core': '5e9e289ff3591884e03b262c', 'flight': 1, 'gridfins': False, 'legs': False, 'reused': False, 'landing_attempt': False, 'landing_success': None, 'landing_type': None, 'landpad': None}</td>\n",
       "      <td>10</td>\n",
       "      <td>2013-03-01T19:10:00.000Z</td>\n",
       "      <td>2013-03-01</td>\n",
       "      <td>Falcon 9</td>\n",
       "      <td>CCSFS SLC 40</td>\n",
       "      <td>677.0</td>\n",
       "      <td>ISS</td>\n",
       "      <td>None None</td>\n",
       "      <td>1</td>\n",
       "      <td>False</td>\n",
       "      <td>False</td>\n",
       "      <td>False</td>\n",
       "      <td>None</td>\n",
       "      <td>1.0</td>\n",
       "      <td>0</td>\n",
       "      <td>B0007</td>\n",
       "      <td>-80.577366</td>\n",
       "      <td>28.561857</td>\n",
       "      <td>3</td>\n",
       "    </tr>\n",
       "    <tr>\n",
       "      <th>10</th>\n",
       "      <td>5e9d0d95eda69973a809d1ec</td>\n",
       "      <td>5eb0e4bbb6c3bb0006eeb1ee</td>\n",
       "      <td>5e9e4502f509092b78566f87</td>\n",
       "      <td>{'core': '5e9e289ff359180ae23b262d', 'flight': 1, 'gridfins': False, 'legs': False, 'reused': False, 'landing_attempt': True, 'landing_success': False, 'landing_type': 'Ocean', 'landpad': None}</td>\n",
       "      <td>11</td>\n",
       "      <td>2013-09-29T16:00:00.000Z</td>\n",
       "      <td>2013-09-29</td>\n",
       "      <td>Falcon 9</td>\n",
       "      <td>VAFB SLC 4E</td>\n",
       "      <td>500.0</td>\n",
       "      <td>PO</td>\n",
       "      <td>False Ocean</td>\n",
       "      <td>1</td>\n",
       "      <td>False</td>\n",
       "      <td>False</td>\n",
       "      <td>False</td>\n",
       "      <td>None</td>\n",
       "      <td>1.0</td>\n",
       "      <td>0</td>\n",
       "      <td>B1003</td>\n",
       "      <td>-120.610829</td>\n",
       "      <td>34.632093</td>\n",
       "      <td>4</td>\n",
       "    </tr>\n",
       "    <tr>\n",
       "      <th>11</th>\n",
       "      <td>5e9d0d95eda69973a809d1ec</td>\n",
       "      <td>5eb0e4bbb6c3bb0006eeb1ef</td>\n",
       "      <td>5e9e4501f509094ba4566f84</td>\n",
       "      <td>{'core': '5e9e289ff35918862c3b262e', 'flight': 1, 'gridfins': False, 'legs': False, 'reused': False, 'landing_attempt': False, 'landing_success': None, 'landing_type': None, 'landpad': None}</td>\n",
       "      <td>12</td>\n",
       "      <td>2013-12-03T22:41:00.000Z</td>\n",
       "      <td>2013-12-03</td>\n",
       "      <td>Falcon 9</td>\n",
       "      <td>CCSFS SLC 40</td>\n",
       "      <td>3170.0</td>\n",
       "      <td>GTO</td>\n",
       "      <td>None None</td>\n",
       "      <td>1</td>\n",
       "      <td>False</td>\n",
       "      <td>False</td>\n",
       "      <td>False</td>\n",
       "      <td>None</td>\n",
       "      <td>1.0</td>\n",
       "      <td>0</td>\n",
       "      <td>B1004</td>\n",
       "      <td>-80.577366</td>\n",
       "      <td>28.561857</td>\n",
       "      <td>5</td>\n",
       "    </tr>\n",
       "    <tr>\n",
       "      <th>...</th>\n",
       "      <td>...</td>\n",
       "      <td>...</td>\n",
       "      <td>...</td>\n",
       "      <td>...</td>\n",
       "      <td>...</td>\n",
       "      <td>...</td>\n",
       "      <td>...</td>\n",
       "      <td>...</td>\n",
       "      <td>...</td>\n",
       "      <td>...</td>\n",
       "      <td>...</td>\n",
       "      <td>...</td>\n",
       "      <td>...</td>\n",
       "      <td>...</td>\n",
       "      <td>...</td>\n",
       "      <td>...</td>\n",
       "      <td>...</td>\n",
       "      <td>...</td>\n",
       "      <td>...</td>\n",
       "      <td>...</td>\n",
       "      <td>...</td>\n",
       "      <td>...</td>\n",
       "      <td>...</td>\n",
       "    </tr>\n",
       "    <tr>\n",
       "      <th>101</th>\n",
       "      <td>5e9d0d95eda69973a809d1ec</td>\n",
       "      <td>5ef6a4600059c33cee4a829e</td>\n",
       "      <td>5e9e4502f509094188566f88</td>\n",
       "      <td>{'core': '5ef670f10059c33cee4a826c', 'flight': 2, 'gridfins': True, 'legs': True, 'reused': True, 'landing_attempt': True, 'landing_success': True, 'landing_type': 'ASDS', 'landpad': '5e9e3032383ecb6bb234e7ca'}</td>\n",
       "      <td>102</td>\n",
       "      <td>2020-09-03T12:46:00.000Z</td>\n",
       "      <td>2020-09-03</td>\n",
       "      <td>Falcon 9</td>\n",
       "      <td>KSC LC 39A</td>\n",
       "      <td>15600.0</td>\n",
       "      <td>VLEO</td>\n",
       "      <td>True ASDS</td>\n",
       "      <td>2</td>\n",
       "      <td>True</td>\n",
       "      <td>True</td>\n",
       "      <td>True</td>\n",
       "      <td>5e9e3032383ecb6bb234e7ca</td>\n",
       "      <td>5.0</td>\n",
       "      <td>12</td>\n",
       "      <td>B1060</td>\n",
       "      <td>-80.603956</td>\n",
       "      <td>28.608058</td>\n",
       "      <td>86</td>\n",
       "    </tr>\n",
       "    <tr>\n",
       "      <th>102</th>\n",
       "      <td>5e9d0d95eda69973a809d1ec</td>\n",
       "      <td>5ef6a48e0059c33cee4a829f</td>\n",
       "      <td>5e9e4502f509094188566f88</td>\n",
       "      <td>{'core': '5e9e28a7f3591817f23b2663', 'flight': 3, 'gridfins': True, 'legs': True, 'reused': True, 'landing_attempt': True, 'landing_success': True, 'landing_type': 'ASDS', 'landpad': '5e9e3032383ecb6bb234e7ca'}</td>\n",
       "      <td>103</td>\n",
       "      <td>2020-10-06T11:29:00.000Z</td>\n",
       "      <td>2020-10-06</td>\n",
       "      <td>Falcon 9</td>\n",
       "      <td>KSC LC 39A</td>\n",
       "      <td>15600.0</td>\n",
       "      <td>VLEO</td>\n",
       "      <td>True ASDS</td>\n",
       "      <td>3</td>\n",
       "      <td>True</td>\n",
       "      <td>True</td>\n",
       "      <td>True</td>\n",
       "      <td>5e9e3032383ecb6bb234e7ca</td>\n",
       "      <td>5.0</td>\n",
       "      <td>13</td>\n",
       "      <td>B1058</td>\n",
       "      <td>-80.603956</td>\n",
       "      <td>28.608058</td>\n",
       "      <td>87</td>\n",
       "    </tr>\n",
       "    <tr>\n",
       "      <th>103</th>\n",
       "      <td>5e9d0d95eda69973a809d1ec</td>\n",
       "      <td>5ef6a4d50059c33cee4a82a1</td>\n",
       "      <td>5e9e4502f509094188566f88</td>\n",
       "      <td>{'core': '5e9e28a6f35918c0803b265c', 'flight': 6, 'gridfins': True, 'legs': True, 'reused': True, 'landing_attempt': True, 'landing_success': True, 'landing_type': 'ASDS', 'landpad': '5e9e3032383ecb6bb234e7ca'}</td>\n",
       "      <td>104</td>\n",
       "      <td>2020-10-18T12:25:00.000Z</td>\n",
       "      <td>2020-10-18</td>\n",
       "      <td>Falcon 9</td>\n",
       "      <td>KSC LC 39A</td>\n",
       "      <td>15600.0</td>\n",
       "      <td>VLEO</td>\n",
       "      <td>True ASDS</td>\n",
       "      <td>6</td>\n",
       "      <td>True</td>\n",
       "      <td>True</td>\n",
       "      <td>True</td>\n",
       "      <td>5e9e3032383ecb6bb234e7ca</td>\n",
       "      <td>5.0</td>\n",
       "      <td>12</td>\n",
       "      <td>B1051</td>\n",
       "      <td>-80.603956</td>\n",
       "      <td>28.608058</td>\n",
       "      <td>88</td>\n",
       "    </tr>\n",
       "    <tr>\n",
       "      <th>104</th>\n",
       "      <td>5e9d0d95eda69973a809d1ec</td>\n",
       "      <td>5ef6a4ea0059c33cee4a82a2</td>\n",
       "      <td>5e9e4501f509094ba4566f84</td>\n",
       "      <td>{'core': '5ef670f10059c33cee4a826c', 'flight': 3, 'gridfins': True, 'legs': True, 'reused': True, 'landing_attempt': True, 'landing_success': True, 'landing_type': 'ASDS', 'landpad': '5e9e3033383ecbb9e534e7cc'}</td>\n",
       "      <td>105</td>\n",
       "      <td>2020-10-24T15:31:00.000Z</td>\n",
       "      <td>2020-10-24</td>\n",
       "      <td>Falcon 9</td>\n",
       "      <td>CCSFS SLC 40</td>\n",
       "      <td>15600.0</td>\n",
       "      <td>VLEO</td>\n",
       "      <td>True ASDS</td>\n",
       "      <td>3</td>\n",
       "      <td>True</td>\n",
       "      <td>True</td>\n",
       "      <td>True</td>\n",
       "      <td>5e9e3033383ecbb9e534e7cc</td>\n",
       "      <td>5.0</td>\n",
       "      <td>12</td>\n",
       "      <td>B1060</td>\n",
       "      <td>-80.577366</td>\n",
       "      <td>28.561857</td>\n",
       "      <td>89</td>\n",
       "    </tr>\n",
       "    <tr>\n",
       "      <th>105</th>\n",
       "      <td>5e9d0d95eda69973a809d1ec</td>\n",
       "      <td>5eb0e4d2b6c3bb0006eeb25e</td>\n",
       "      <td>5e9e4501f509094ba4566f84</td>\n",
       "      <td>{'core': '5f57c5440622a633027900a0', 'flight': 1, 'gridfins': True, 'legs': True, 'reused': False, 'landing_attempt': True, 'landing_success': True, 'landing_type': 'ASDS', 'landpad': '5e9e3032383ecb6bb234e7ca'}</td>\n",
       "      <td>106</td>\n",
       "      <td>2020-11-05T23:24:00.000Z</td>\n",
       "      <td>2020-11-05</td>\n",
       "      <td>Falcon 9</td>\n",
       "      <td>CCSFS SLC 40</td>\n",
       "      <td>3681.0</td>\n",
       "      <td>MEO</td>\n",
       "      <td>True ASDS</td>\n",
       "      <td>1</td>\n",
       "      <td>True</td>\n",
       "      <td>False</td>\n",
       "      <td>True</td>\n",
       "      <td>5e9e3032383ecb6bb234e7ca</td>\n",
       "      <td>5.0</td>\n",
       "      <td>8</td>\n",
       "      <td>B1062</td>\n",
       "      <td>-80.577366</td>\n",
       "      <td>28.561857</td>\n",
       "      <td>90</td>\n",
       "    </tr>\n",
       "  </tbody>\n",
       "</table>\n",
       "<p>90 rows × 23 columns</p>\n",
       "</div>"
      ],
      "text/plain": [
       "                       rocket                  payloads  \\\n",
       "5    5e9d0d95eda69973a809d1ec  5eb0e4b7b6c3bb0006eeb1e7   \n",
       "7    5e9d0d95eda69973a809d1ec  5eb0e4bab6c3bb0006eeb1ea   \n",
       "9    5e9d0d95eda69973a809d1ec  5eb0e4bbb6c3bb0006eeb1ed   \n",
       "10   5e9d0d95eda69973a809d1ec  5eb0e4bbb6c3bb0006eeb1ee   \n",
       "11   5e9d0d95eda69973a809d1ec  5eb0e4bbb6c3bb0006eeb1ef   \n",
       "..                        ...                       ...   \n",
       "101  5e9d0d95eda69973a809d1ec  5ef6a4600059c33cee4a829e   \n",
       "102  5e9d0d95eda69973a809d1ec  5ef6a48e0059c33cee4a829f   \n",
       "103  5e9d0d95eda69973a809d1ec  5ef6a4d50059c33cee4a82a1   \n",
       "104  5e9d0d95eda69973a809d1ec  5ef6a4ea0059c33cee4a82a2   \n",
       "105  5e9d0d95eda69973a809d1ec  5eb0e4d2b6c3bb0006eeb25e   \n",
       "\n",
       "                    launchpad  \\\n",
       "5    5e9e4501f509094ba4566f84   \n",
       "7    5e9e4501f509094ba4566f84   \n",
       "9    5e9e4501f509094ba4566f84   \n",
       "10   5e9e4502f509092b78566f87   \n",
       "11   5e9e4501f509094ba4566f84   \n",
       "..                        ...   \n",
       "101  5e9e4502f509094188566f88   \n",
       "102  5e9e4502f509094188566f88   \n",
       "103  5e9e4502f509094188566f88   \n",
       "104  5e9e4501f509094ba4566f84   \n",
       "105  5e9e4501f509094ba4566f84   \n",
       "\n",
       "                                                                                                                                                                                                                   cores  \\\n",
       "5                         {'core': '5e9e289ef359185f2b3b2628', 'flight': 1, 'gridfins': False, 'legs': False, 'reused': False, 'landing_attempt': False, 'landing_success': None, 'landing_type': None, 'landpad': None}   \n",
       "7                         {'core': '5e9e289ef35918f39c3b262a', 'flight': 1, 'gridfins': False, 'legs': False, 'reused': False, 'landing_attempt': False, 'landing_success': None, 'landing_type': None, 'landpad': None}   \n",
       "9                         {'core': '5e9e289ff3591884e03b262c', 'flight': 1, 'gridfins': False, 'legs': False, 'reused': False, 'landing_attempt': False, 'landing_success': None, 'landing_type': None, 'landpad': None}   \n",
       "10                     {'core': '5e9e289ff359180ae23b262d', 'flight': 1, 'gridfins': False, 'legs': False, 'reused': False, 'landing_attempt': True, 'landing_success': False, 'landing_type': 'Ocean', 'landpad': None}   \n",
       "11                        {'core': '5e9e289ff35918862c3b262e', 'flight': 1, 'gridfins': False, 'legs': False, 'reused': False, 'landing_attempt': False, 'landing_success': None, 'landing_type': None, 'landpad': None}   \n",
       "..                                                                                                                                                                                                                   ...   \n",
       "101   {'core': '5ef670f10059c33cee4a826c', 'flight': 2, 'gridfins': True, 'legs': True, 'reused': True, 'landing_attempt': True, 'landing_success': True, 'landing_type': 'ASDS', 'landpad': '5e9e3032383ecb6bb234e7ca'}   \n",
       "102   {'core': '5e9e28a7f3591817f23b2663', 'flight': 3, 'gridfins': True, 'legs': True, 'reused': True, 'landing_attempt': True, 'landing_success': True, 'landing_type': 'ASDS', 'landpad': '5e9e3032383ecb6bb234e7ca'}   \n",
       "103   {'core': '5e9e28a6f35918c0803b265c', 'flight': 6, 'gridfins': True, 'legs': True, 'reused': True, 'landing_attempt': True, 'landing_success': True, 'landing_type': 'ASDS', 'landpad': '5e9e3032383ecb6bb234e7ca'}   \n",
       "104   {'core': '5ef670f10059c33cee4a826c', 'flight': 3, 'gridfins': True, 'legs': True, 'reused': True, 'landing_attempt': True, 'landing_success': True, 'landing_type': 'ASDS', 'landpad': '5e9e3033383ecbb9e534e7cc'}   \n",
       "105  {'core': '5f57c5440622a633027900a0', 'flight': 1, 'gridfins': True, 'legs': True, 'reused': False, 'landing_attempt': True, 'landing_success': True, 'landing_type': 'ASDS', 'landpad': '5e9e3032383ecb6bb234e7ca'}   \n",
       "\n",
       "     flight_number                  date_utc        date BoosterVersion  \\\n",
       "5                6  2010-06-04T18:45:00.000Z  2010-06-04       Falcon 9   \n",
       "7                8  2012-05-22T07:44:00.000Z  2012-05-22       Falcon 9   \n",
       "9               10  2013-03-01T19:10:00.000Z  2013-03-01       Falcon 9   \n",
       "10              11  2013-09-29T16:00:00.000Z  2013-09-29       Falcon 9   \n",
       "11              12  2013-12-03T22:41:00.000Z  2013-12-03       Falcon 9   \n",
       "..             ...                       ...         ...            ...   \n",
       "101            102  2020-09-03T12:46:00.000Z  2020-09-03       Falcon 9   \n",
       "102            103  2020-10-06T11:29:00.000Z  2020-10-06       Falcon 9   \n",
       "103            104  2020-10-18T12:25:00.000Z  2020-10-18       Falcon 9   \n",
       "104            105  2020-10-24T15:31:00.000Z  2020-10-24       Falcon 9   \n",
       "105            106  2020-11-05T23:24:00.000Z  2020-11-05       Falcon 9   \n",
       "\n",
       "       LaunchSite  PayloadMass Orbit      Outcome  Flights  GridFins  Reused  \\\n",
       "5    CCSFS SLC 40          NaN   LEO    None None        1     False   False   \n",
       "7    CCSFS SLC 40        525.0   LEO    None None        1     False   False   \n",
       "9    CCSFS SLC 40        677.0   ISS    None None        1     False   False   \n",
       "10    VAFB SLC 4E        500.0    PO  False Ocean        1     False   False   \n",
       "11   CCSFS SLC 40       3170.0   GTO    None None        1     False   False   \n",
       "..            ...          ...   ...          ...      ...       ...     ...   \n",
       "101    KSC LC 39A      15600.0  VLEO    True ASDS        2      True    True   \n",
       "102    KSC LC 39A      15600.0  VLEO    True ASDS        3      True    True   \n",
       "103    KSC LC 39A      15600.0  VLEO    True ASDS        6      True    True   \n",
       "104  CCSFS SLC 40      15600.0  VLEO    True ASDS        3      True    True   \n",
       "105  CCSFS SLC 40       3681.0   MEO    True ASDS        1      True   False   \n",
       "\n",
       "      Legs                LandingPad  Block  ReusedCount Serial   Longitude  \\\n",
       "5    False                      None    1.0            0  B0003  -80.577366   \n",
       "7    False                      None    1.0            0  B0005  -80.577366   \n",
       "9    False                      None    1.0            0  B0007  -80.577366   \n",
       "10   False                      None    1.0            0  B1003 -120.610829   \n",
       "11   False                      None    1.0            0  B1004  -80.577366   \n",
       "..     ...                       ...    ...          ...    ...         ...   \n",
       "101   True  5e9e3032383ecb6bb234e7ca    5.0           12  B1060  -80.603956   \n",
       "102   True  5e9e3032383ecb6bb234e7ca    5.0           13  B1058  -80.603956   \n",
       "103   True  5e9e3032383ecb6bb234e7ca    5.0           12  B1051  -80.603956   \n",
       "104   True  5e9e3033383ecbb9e534e7cc    5.0           12  B1060  -80.577366   \n",
       "105   True  5e9e3032383ecb6bb234e7ca    5.0            8  B1062  -80.577366   \n",
       "\n",
       "      Latitude  FlightNumber  \n",
       "5    28.561857             1  \n",
       "7    28.561857             2  \n",
       "9    28.561857             3  \n",
       "10   34.632093             4  \n",
       "11   28.561857             5  \n",
       "..         ...           ...  \n",
       "101  28.608058            86  \n",
       "102  28.608058            87  \n",
       "103  28.608058            88  \n",
       "104  28.561857            89  \n",
       "105  28.561857            90  \n",
       "\n",
       "[90 rows x 23 columns]"
      ]
     },
     "execution_count": 35,
     "metadata": {},
     "output_type": "execute_result"
    }
   ],
   "source": [
    "data_falcon9.loc[:, 'FlightNumber'] = list(range(1, data_falcon9.shape[0]+1))\n",
    "data_falcon9"
   ]
  },
  {
   "cell_type": "markdown",
   "metadata": {
    "tags": []
   },
   "source": [
    "## Data Wrangling\n"
   ]
  },
  {
   "cell_type": "markdown",
   "metadata": {},
   "source": [
    "We can see below that some of the rows are missing values in our dataset.\n"
   ]
  },
  {
   "cell_type": "code",
   "execution_count": 36,
   "metadata": {},
   "outputs": [
    {
     "data": {
      "text/plain": [
       "rocket             0\n",
       "payloads           0\n",
       "launchpad          0\n",
       "cores              0\n",
       "flight_number      0\n",
       "date_utc           0\n",
       "date               0\n",
       "BoosterVersion     0\n",
       "LaunchSite         0\n",
       "PayloadMass        5\n",
       "Orbit              0\n",
       "Outcome            0\n",
       "Flights            0\n",
       "GridFins           0\n",
       "Reused             0\n",
       "Legs               0\n",
       "LandingPad        26\n",
       "Block              0\n",
       "ReusedCount        0\n",
       "Serial             0\n",
       "Longitude          0\n",
       "Latitude           0\n",
       "FlightNumber       0\n",
       "dtype: int64"
      ]
     },
     "execution_count": 36,
     "metadata": {},
     "output_type": "execute_result"
    }
   ],
   "source": [
    "data_falcon9.isnull().sum()"
   ]
  },
  {
   "cell_type": "markdown",
   "metadata": {},
   "source": [
    "Before we can continue we must deal with these missing values. The <code>LandingPad</code> column will retain None values to represent when landing pads were not used.\n"
   ]
  },
  {
   "cell_type": "markdown",
   "metadata": {},
   "source": [
    "### Task 3: Dealing with Missing Values\n"
   ]
  },
  {
   "cell_type": "markdown",
   "metadata": {},
   "source": [
    "Calculate below the mean for the <code>PayloadMass</code> using the <code>.mean()</code>. Then use the mean and the <code>.replace()</code> function to replace `np.nan` values in the data with the mean you calculated.\n"
   ]
  },
  {
   "cell_type": "code",
   "execution_count": 37,
   "metadata": {},
   "outputs": [
    {
     "name": "stdout",
     "output_type": "stream",
     "text": [
      "                      rocket                  payloads  \\\n",
      "5   5e9d0d95eda69973a809d1ec  5eb0e4b7b6c3bb0006eeb1e7   \n",
      "7   5e9d0d95eda69973a809d1ec  5eb0e4bab6c3bb0006eeb1ea   \n",
      "9   5e9d0d95eda69973a809d1ec  5eb0e4bbb6c3bb0006eeb1ed   \n",
      "10  5e9d0d95eda69973a809d1ec  5eb0e4bbb6c3bb0006eeb1ee   \n",
      "11  5e9d0d95eda69973a809d1ec  5eb0e4bbb6c3bb0006eeb1ef   \n",
      "\n",
      "                   launchpad  \\\n",
      "5   5e9e4501f509094ba4566f84   \n",
      "7   5e9e4501f509094ba4566f84   \n",
      "9   5e9e4501f509094ba4566f84   \n",
      "10  5e9e4502f509092b78566f87   \n",
      "11  5e9e4501f509094ba4566f84   \n",
      "\n",
      "                                                                                                                                                                                                cores  \\\n",
      "5      {'core': '5e9e289ef359185f2b3b2628', 'flight': 1, 'gridfins': False, 'legs': False, 'reused': False, 'landing_attempt': False, 'landing_success': None, 'landing_type': None, 'landpad': None}   \n",
      "7      {'core': '5e9e289ef35918f39c3b262a', 'flight': 1, 'gridfins': False, 'legs': False, 'reused': False, 'landing_attempt': False, 'landing_success': None, 'landing_type': None, 'landpad': None}   \n",
      "9      {'core': '5e9e289ff3591884e03b262c', 'flight': 1, 'gridfins': False, 'legs': False, 'reused': False, 'landing_attempt': False, 'landing_success': None, 'landing_type': None, 'landpad': None}   \n",
      "10  {'core': '5e9e289ff359180ae23b262d', 'flight': 1, 'gridfins': False, 'legs': False, 'reused': False, 'landing_attempt': True, 'landing_success': False, 'landing_type': 'Ocean', 'landpad': None}   \n",
      "11     {'core': '5e9e289ff35918862c3b262e', 'flight': 1, 'gridfins': False, 'legs': False, 'reused': False, 'landing_attempt': False, 'landing_success': None, 'landing_type': None, 'landpad': None}   \n",
      "\n",
      "    flight_number                  date_utc        date BoosterVersion  \\\n",
      "5               6  2010-06-04T18:45:00.000Z  2010-06-04       Falcon 9   \n",
      "7               8  2012-05-22T07:44:00.000Z  2012-05-22       Falcon 9   \n",
      "9              10  2013-03-01T19:10:00.000Z  2013-03-01       Falcon 9   \n",
      "10             11  2013-09-29T16:00:00.000Z  2013-09-29       Falcon 9   \n",
      "11             12  2013-12-03T22:41:00.000Z  2013-12-03       Falcon 9   \n",
      "\n",
      "      LaunchSite  PayloadMass Orbit      Outcome  Flights  GridFins  Reused  \\\n",
      "5   CCSFS SLC 40  6123.547647   LEO    None None        1     False   False   \n",
      "7   CCSFS SLC 40   525.000000   LEO    None None        1     False   False   \n",
      "9   CCSFS SLC 40   677.000000   ISS    None None        1     False   False   \n",
      "10   VAFB SLC 4E   500.000000    PO  False Ocean        1     False   False   \n",
      "11  CCSFS SLC 40  3170.000000   GTO    None None        1     False   False   \n",
      "\n",
      "     Legs LandingPad  Block  ReusedCount Serial   Longitude   Latitude  \\\n",
      "5   False       None    1.0            0  B0003  -80.577366  28.561857   \n",
      "7   False       None    1.0            0  B0005  -80.577366  28.561857   \n",
      "9   False       None    1.0            0  B0007  -80.577366  28.561857   \n",
      "10  False       None    1.0            0  B1003 -120.610829  34.632093   \n",
      "11  False       None    1.0            0  B1004  -80.577366  28.561857   \n",
      "\n",
      "    FlightNumber  \n",
      "5              1  \n",
      "7              2  \n",
      "9              3  \n",
      "10             4  \n",
      "11             5  \n"
     ]
    }
   ],
   "source": [
    "# Calculate the mean of the PayloadMass column\n",
    "payload_mass_mean = data_falcon9['PayloadMass'].mean()\n",
    "\n",
    "# Replace the np.nan values with the mean\n",
    "data_falcon9['PayloadMass'].replace(np.nan, payload_mass_mean, inplace=True)\n",
    "\n",
    "# Display the updated DataFrame to verify\n",
    "print(data_falcon9.head())"
   ]
  },
  {
   "cell_type": "code",
   "execution_count": 38,
   "metadata": {
    "tags": []
   },
   "outputs": [
    {
     "data": {
      "text/plain": [
       "2006"
      ]
     },
     "execution_count": 38,
     "metadata": {},
     "output_type": "execute_result"
    }
   ],
   "source": [
    "## Qyestion 1\n",
    "# Year in 1st row of column `static_fire_data_utc`\n",
    "spacex_url = \"https://api.spacexdata.com/v4/launches/past\"\n",
    "response = requests.get(spacex_url)\n",
    "\n",
    "# Check if the request was successful\n",
    "if response.status_code == 200:\n",
    "    # Step 3: Convert the response JSON to a DataFrame\n",
    "    data = pd.json_normalize(response.json())\n",
    "\n",
    "    # Convert type to 'year'\n",
    "    data['static_fire_date_utc'] = pd.to_datetime(data['static_fire_date_utc'])\n",
    "    \n",
    "    # Get year\n",
    "    first_row_year = data.loc[0, 'static_fire_date_utc'].year if pd.notnull(data.loc[0, 'static_fire_date_utc']) else None\n",
    "else:\n",
    "    first_row_year = None\n",
    "\n",
    "first_row_year"
   ]
  },
  {
   "cell_type": "markdown",
   "metadata": {},
   "source": [
    "You should see the number of missing values of the <code>PayLoadMass</code> change to zero.\n"
   ]
  },
  {
   "cell_type": "markdown",
   "metadata": {},
   "source": [
    "Now we should have no missing values in our dataset except for in <code>LandingPad</code>.\n"
   ]
  },
  {
   "cell_type": "markdown",
   "metadata": {},
   "source": [
    "We can now export it to a <b>CSV</b> for the next section,but to make the answers consistent, in the next lab we will provide data in a pre-selected date range. \n"
   ]
  },
  {
   "cell_type": "code",
   "execution_count": 39,
   "metadata": {
    "tags": []
   },
   "outputs": [],
   "source": [
    "data_falcon9.to_csv('dataset_part_1.csv', index=False)\n"
   ]
  },
  {
   "cell_type": "markdown",
   "metadata": {},
   "source": [
    "## Authors\n"
   ]
  },
  {
   "cell_type": "markdown",
   "metadata": {},
   "source": [
    "<a href=\"https://www.linkedin.com/in/joseph-s-50398b136/\">Joseph Santarcangelo</a> has a PhD in Electrical Engineering, his research focused on using machine learning, signal processing, and computer vision to determine how videos impact human cognition. Joseph has been working for IBM since he completed his PhD. \n"
   ]
  },
  {
   "cell_type": "markdown",
   "metadata": {},
   "source": [
    "<!--## Change Log\n",
    "-->\n"
   ]
  },
  {
   "cell_type": "markdown",
   "metadata": {},
   "source": [
    "<!--\n",
    "\n",
    "|Date (YYYY-MM-DD)|Version|Changed By|Change Description|\n",
    "|-|-|-|-|\n",
    "|2020-09-20|1.1|Joseph|get result each time you run|\n",
    "|2020-09-20|1.1|Azim |Created Part 1 Lab using SpaceX API|\n",
    "|2020-09-20|1.0|Joseph |Modified Multiple Areas|\n",
    "-->\n"
   ]
  },
  {
   "cell_type": "markdown",
   "metadata": {},
   "source": [
    "Copyright © 2021 IBM Corporation. All rights reserved.\n"
   ]
  }
 ],
 "metadata": {
  "kernelspec": {
   "display_name": "Python",
   "language": "python",
   "name": "conda-env-python-py"
  },
  "language_info": {
   "codemirror_mode": {
    "name": "ipython",
    "version": 3
   },
   "file_extension": ".py",
   "mimetype": "text/x-python",
   "name": "python",
   "nbconvert_exporter": "python",
   "pygments_lexer": "ipython3",
   "version": "3.7.12"
  },
  "prev_pub_hash": "9fae682d673088bca20f23531422d88c5d45eddda6c66ca390a960fb8e99c74e"
 },
 "nbformat": 4,
 "nbformat_minor": 4
}
